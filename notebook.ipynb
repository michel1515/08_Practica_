{
 "cells": [
  {
   "cell_type": "markdown",
   "metadata": {},
   "source": []
  },
  {
   "cell_type": "code",
   "execution_count": 2,
   "metadata": {},
   "outputs": [],
   "source": [
    "import json\n",
    "\n",
    "class JSONManipulator:\n",
    "    def _init_(self, data=None):\n",
    "        self.data = data or {}  # Inicializamos el diccionario si no se proporciona uno\n",
    "\n",
    "    def cargar_desde_json(self, archivo):\n",
    "        try:\n",
    "           with open(archivo, \"r\") as file:\n",
    "                self.data = json.loald(file)\n",
    "                print(\"contenido del archivo JSON cargando exitosamente:\")\n",
    "                print(self.data)\n",
    "        except FileNotFoundError:\n",
    "            print(f\"¡Error! el archivo '{archivo}' no existe\")\n",
    "        except json.JSONDecodeError as e:\n",
    "            print(f\"¡Error! El archivo '{archivo}' no es un JSON valido\")\n",
    "            with open(archivo, 'r') as file:\n",
    "                self.json_sin_procesar = file.read()\n",
    "                return self.json_sin_procesar \n",
    "        except Exception as e:\n",
    "            print(f\"¡Error inesperado! {e}\")\n",
    "\n",
    "    def guardar_a_json(self, nombre_archivo, indent=None):\n",
    "        try:\n",
    "            with open(nombre_archivo, 'w') as  file:\n",
    "                json.dump(self.data, file, indent=indent)\n",
    "            print(f\"guardar exitoso como JSON en '{nombre_archivo}'.\")\n",
    "        except Exception as e:\n",
    "            print(f\"Error al guardar como JSON: {e}\")\n",
    "\n",
    "    def normalizar_json(self,data):\n",
    "        try:\n",
    "            json_str = json.dumps(data, indent=None)\n",
    "            self.data =json.loads(json_str)\n",
    "            print(\"Normalizacion exitosa del JSON:\")\n",
    "            print(self.data)\n",
    "            return self.data\n",
    "        except Exception as e:\n",
    "            print(f\"Error al normalizar JSON: {e}\")"
   ]
  },
  {
   "cell_type": "code",
   "execution_count": null,
   "metadata": {},
   "outputs": [],
   "source": [
    "json_manipulator = JSONManipulador()\n",
    "json_manipulator.cargar_desde\n"
   ]
  }
 ],
 "metadata": {
  "kernelspec": {
   "display_name": "Python 3",
   "language": "python",
   "name": "python3"
  },
  "language_info": {
   "codemirror_mode": {
    "name": "ipython",
    "version": 3
   },
   "file_extension": ".py",
   "mimetype": "text/x-python",
   "name": "python",
   "nbconvert_exporter": "python",
   "pygments_lexer": "ipython3",
   "version": "3.11.6"
  }
 },
 "nbformat": 4,
 "nbformat_minor": 2
}
